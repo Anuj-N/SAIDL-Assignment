{
 "cells": [
  {
   "cell_type": "code",
   "execution_count": 1,
   "id": "5310076d-9aab-41cd-aa09-aa399f434558",
   "metadata": {},
   "outputs": [
    {
     "name": "stderr",
     "output_type": "stream",
     "text": [
      "Downloading...\n",
      "From (uriginal): https://drive.google.com/uc?id=1-w0_9TzFXdktLurhf0UnJ1FvA8fpxSGl\n",
      "From (redirected): https://drive.google.com/uc?id=1-w0_9TzFXdktLurhf0UnJ1FvA8fpxSGl&confirm=t&uuid=095821d1-992e-41af-952a-95435865cd4b\n",
      "To: C:\\Users\\Anuj\\Desktop\\saidl assignment\\CV\\phrasecut_dataset.zip\n",
      "100%|█████████████████████████████████████████████████████████████████████████████| 1.23G/1.23G [14:31<00:00, 1.41MB/s]\n"
     ]
    }
   ],
   "source": [
    "import gdown\n",
    "import zipfile\n",
    "\n",
    "# Download the dataset\n",
    "url = 'https://drive.google.com/uc?id=1-w0_9TzFXdktLurhf0UnJ1FvA8fpxSGl'\n",
    "output = 'phrasecut_dataset.zip'\n",
    "gdown.download(url, output, quiet=False)\n",
    "\n",
    "# Extract the dataset\n",
    "with zipfile.ZipFile(output, 'r') as zip_ref:\n",
    "    zip_ref.extractall('phrasecut_dataset')"
   ]
  },
  {
   "cell_type": "code",
   "execution_count": 1,
   "id": "865e07f8-84af-4b5b-97ef-d954e25c0cc1",
   "metadata": {},
   "outputs": [
    {
     "data": {
      "text/html": [
       "<div>\n",
       "<style scoped>\n",
       "    .dataframe tbody tr th:only-of-type {\n",
       "        vertical-align: middle;\n",
       "    }\n",
       "\n",
       "    .dataframe tbody tr th {\n",
       "        vertical-align: top;\n",
       "    }\n",
       "\n",
       "    .dataframe thead th {\n",
       "        text-align: right;\n",
       "    }\n",
       "</style>\n",
       "<table border=\"1\" class=\"dataframe\">\n",
       "  <thead>\n",
       "    <tr style=\"text-align: right;\">\n",
       "      <th></th>\n",
       "      <th>task_id</th>\n",
       "      <th>image_id</th>\n",
       "      <th>phrase</th>\n",
       "    </tr>\n",
       "  </thead>\n",
       "  <tbody>\n",
       "    <tr>\n",
       "      <th>0</th>\n",
       "      <td>2359296__3539024</td>\n",
       "      <td>2359296</td>\n",
       "      <td>windows</td>\n",
       "    </tr>\n",
       "    <tr>\n",
       "      <th>1</th>\n",
       "      <td>2359296__1870150</td>\n",
       "      <td>2359296</td>\n",
       "      <td>brown lampshade</td>\n",
       "    </tr>\n",
       "    <tr>\n",
       "      <th>2</th>\n",
       "      <td>2359296__2313724</td>\n",
       "      <td>2359296</td>\n",
       "      <td>line on ground</td>\n",
       "    </tr>\n",
       "    <tr>\n",
       "      <th>3</th>\n",
       "      <td>2359296__2405205</td>\n",
       "      <td>2359296</td>\n",
       "      <td>brown floor</td>\n",
       "    </tr>\n",
       "    <tr>\n",
       "      <th>4</th>\n",
       "      <td>2359296__1953769_1912261</td>\n",
       "      <td>2359296</td>\n",
       "      <td>bed</td>\n",
       "    </tr>\n",
       "  </tbody>\n",
       "</table>\n",
       "</div>"
      ],
      "text/plain": [
       "                    task_id  image_id           phrase\n",
       "0          2359296__3539024   2359296          windows\n",
       "1          2359296__1870150   2359296  brown lampshade\n",
       "2          2359296__2313724   2359296   line on ground\n",
       "3          2359296__2405205   2359296      brown floor\n",
       "4  2359296__1953769_1912261   2359296              bed"
      ]
     },
     "execution_count": 1,
     "metadata": {},
     "output_type": "execute_result"
    }
   ],
   "source": [
    "import pandas as pd\n",
    "#Read json file - training data\n",
    "df = pd.read_json(\"./phrasecut_dataset/VGPhraseCut_V0_sub_train+val/train/refer_train.json\")\n",
    "# df.head()\n",
    "df = df.drop(['phrase_structure', 'instance_boxes', 'ann_ids', 'Polygons'], axis =1)\n",
    "df.head()"
   ]
  },
  {
   "cell_type": "code",
   "execution_count": 2,
   "id": "f81357d4-dd73-4156-8ae2-20069037b8f3",
   "metadata": {},
   "outputs": [
    {
     "data": {
      "text/html": [
       "<div>\n",
       "<style scoped>\n",
       "    .dataframe tbody tr th:only-of-type {\n",
       "        vertical-align: middle;\n",
       "    }\n",
       "\n",
       "    .dataframe tbody tr th {\n",
       "        vertical-align: top;\n",
       "    }\n",
       "\n",
       "    .dataframe thead th {\n",
       "        text-align: right;\n",
       "    }\n",
       "</style>\n",
       "<table border=\"1\" class=\"dataframe\">\n",
       "  <thead>\n",
       "    <tr style=\"text-align: right;\">\n",
       "      <th></th>\n",
       "      <th>task_id</th>\n",
       "      <th>image_id</th>\n",
       "      <th>phrase</th>\n",
       "    </tr>\n",
       "  </thead>\n",
       "  <tbody>\n",
       "    <tr>\n",
       "      <th>62</th>\n",
       "      <td>4276__4367141</td>\n",
       "      <td>4276</td>\n",
       "      <td>pictures are in wall</td>\n",
       "    </tr>\n",
       "    <tr>\n",
       "      <th>63</th>\n",
       "      <td>4276__4367131</td>\n",
       "      <td>4276</td>\n",
       "      <td>white curtain</td>\n",
       "    </tr>\n",
       "    <tr>\n",
       "      <th>64</th>\n",
       "      <td>4276__4564267</td>\n",
       "      <td>4276</td>\n",
       "      <td>rug</td>\n",
       "    </tr>\n",
       "    <tr>\n",
       "      <th>65</th>\n",
       "      <td>4276__4367181</td>\n",
       "      <td>4276</td>\n",
       "      <td>wooden shelf</td>\n",
       "    </tr>\n",
       "    <tr>\n",
       "      <th>66</th>\n",
       "      <td>4276__4367138_4367177</td>\n",
       "      <td>4276</td>\n",
       "      <td>toys</td>\n",
       "    </tr>\n",
       "  </tbody>\n",
       "</table>\n",
       "</div>"
      ],
      "text/plain": [
       "                  task_id  image_id                phrase\n",
       "62          4276__4367141      4276  pictures are in wall\n",
       "63          4276__4367131      4276         white curtain\n",
       "64          4276__4564267      4276                   rug\n",
       "65          4276__4367181      4276          wooden shelf\n",
       "66  4276__4367138_4367177      4276                  toys"
      ]
     },
     "execution_count": 2,
     "metadata": {},
     "output_type": "execute_result"
    }
   ],
   "source": [
    "import os\n",
    "\n",
    "l_temp=os.listdir(\"phrasecut_dataset/VGPhraseCut_V0_sub_train+val/train/images\")\n",
    "l_train=[x.split('.')[0] for x in l_temp]\n",
    "l_train_int=[eval(i) for i in l_train]\n",
    "\n",
    "df = df[df['image_id'].isin(l_train_int)]\n",
    "\n",
    "df.to_csv('train_data.csv', index = False)\n",
    "df.head()"
   ]
  },
  {
   "cell_type": "code",
   "execution_count": 3,
   "id": "1d6ef7c5-eb5a-4c10-b7c5-6c53d93f2bca",
   "metadata": {},
   "outputs": [],
   "source": [
    "#Read json file - validation data\n",
    "df = pd.read_json(\"./phrasecut_dataset/VGPhraseCut_V0_sub_train+val/val/refer_val.json\")\n",
    "# df.head()\n",
    "df = df.drop(['phrase_structure', 'instance_boxes', 'ann_ids', 'Polygons'], axis =1)\n",
    "# df.head()\n",
    "\n",
    "l_temp=os.listdir(\"phrasecut_dataset/VGPhraseCut_V0_sub_train+val/val/images\")\n",
    "l_val=[x.split('.')[0] for x in l_temp]\n",
    "l_val_int=[eval(i) for i in l_val]\n",
    "\n",
    "df = df[df['image_id'].isin(l_val_int)]\n",
    "\n",
    "df.to_csv('val_data.csv', index = False)\n",
    "df.head()"
   ]
  }
 ],
 "metadata": {
  "kernelspec": {
   "display_name": "Python 3 (ipykernel)",
   "language": "python",
   "name": "python3"
  },
  "language_info": {
   "codemirror_mode": {
    "name": "ipython",
    "version": 3
   },
   "file_extension": ".py",
   "mimetype": "text/x-python",
   "name": "python",
   "nbconvert_exporter": "python",
   "pygments_lexer": "ipython3",
   "version": "3.11.4"
  }
 },
 "nbformat": 4,
 "nbformat_minor": 5
}
